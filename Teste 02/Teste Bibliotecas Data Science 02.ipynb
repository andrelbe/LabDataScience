{
 "cells": [
  {
   "cell_type": "markdown",
   "metadata": {},
   "source": [
    "<h1> TESTE 02</h1> \n",
    "<h2> INTRODUÇÃO </h2>\n",
    "<p style=\"text-align:justify;text-justify:inter-word;\">Nesse teste vamos escolher um dataset. Usar alguns classificadores. Alterar dados e parâmetros para melhorar a performance de classificação e, posteriormente, comparar as métricas.</p>\n",
    "\n",
    "<p style=\"text-align:justify;text-justify:inter-word;\">O diagnóstico preciso das doenças eritema-escamosas é um problema real em dermatologia. Em geral, a análise clínica é insuficiente, tornando-se necessária a realização de uma biópsia. Porém, as doenças também possuem muitas características histopatológicas similares. Outra dificuldade para o diagnóstico diferencial é que uma doença pode apresentar as características de outra doença na fase inicial e pode ter os traços característicos nas fases seguintes (Demiroz G. et al., 1998). </p> \n",
    "<p style=\"text-align:justify;text-justify:inter-word;\">O presente teste concentra-se no diagnóstico de 6 (seis) principais doenças eritema-escamosas (classes) que são :</p>\n",
    "<ul>\n",
    "    <li>Psoríase;</li>\n",
    "    <li>Dermatite crônica;</li>\n",
    "    <li>Dermatite seborreica;</li>\n",
    "    <li>Líquen plano;</li>\n",
    "    <li>Pitiríase rósea;</li>\n",
    "    <li>Pitiríase rubro pilar.</li>\n",
    "</ul>\n",
    "\n",
    "<p style=\"text-align:justify;text-justify:inter-word;\"> Este trabalho tem como objetivo mostrar que é possível utilizar <i>machine learning</i> para auxiliar no diagnóstico das doenças supracitadas.</p> \n",
    "\n",
    "<h2>O DATASET</h2>\n",
    "<p style=\"text-align:justify;text-justify:inter-word;\"> O <i>dataset</i> utilizado para esse experimento pode ser encontrado no repositório da Universidade da California em Irvine (UCI) e pode ser acessado a partir do link: <a href=\"http://archive.ics.uci.edu/ml/datasets/Dermatology\">UCI - Machine Learning Repository</a>.</p> \n",
    "\n",
    "<h2>METODLOGIA</h2>\n",
    "<p style=\"text-align:justify;text-justify:inter-word;\">O presente teste compreende o estudo das principais características das doenças eritêmo-escamosas para o entendimento da dificuldade de classificação.</p>\n",
    "<p style=\"text-align:justify;text-justify:inter-word;\"> Envolveu, também, dois experimentos envolvendo obtenção dos dados através de do banco de dados especificado anteriormente e análise de tais dados.</p> \n",
    "O primeiro experimento envolveu o uso dos dados clínicos e histopatológicos para a classificação utilizando-se de uma rede neural feedforward. Para tanto, realizou-se uma etapa de pré-processamento, treinamento da rede (teste e validação), análise dos dados obtidos e pós-processamento (poda das variáveis de menor relevância e análise dos novos dados).\n",
    "O segundo experimento envolveu somente o uso dos dados clínicos com o intuito de redução do custo do processo de diagnóstico. Tais dados foram apresentados para o treinamento de uma rede neural artificial feedforward e, posteriormente, realizou-se a análise dos resultados da classificação.\n",
    "\n"
   ]
  }
 ],
 "metadata": {
  "kernelspec": {
   "display_name": "Python 3",
   "language": "python",
   "name": "python3"
  },
  "language_info": {
   "codemirror_mode": {
    "name": "ipython",
    "version": 3
   },
   "file_extension": ".py",
   "mimetype": "text/x-python",
   "name": "python",
   "nbconvert_exporter": "python",
   "pygments_lexer": "ipython3",
   "version": "3.7.4"
  }
 },
 "nbformat": 4,
 "nbformat_minor": 4
}
