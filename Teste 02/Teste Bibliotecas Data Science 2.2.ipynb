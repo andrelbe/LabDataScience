{
 "cells": [
  {
   "cell_type": "markdown",
   "id": "abe5b25d-40f2-49ac-80ae-9541b24c5087",
   "metadata": {},
   "source": [
    "<h1>ANÁLISE FATORIAL</h1>"
   ]
  },
  {
   "cell_type": "markdown",
   "id": "c55f2f1f-9d33-43f4-8466-d4b0298e2a64",
   "metadata": {},
   "source": [
    "<p style=\"text-align:justify;text-justify:inter-word;\">Nesta seção usaremos dataframe: \"dermatology_completo_tratado.csv\"   para realizarmos a análise fatorial.</p>\n",
    "\n",
    "\n",
    "<p style=\"text-align:justify;text-justify:inter-word;\">Análise fatorial é uma técnica multivariada, um modelo estatístico linear usado para explicar a correlação entre as variáveis observadas e, se possível, condensar esse conjunto de variáveis em outras variáveis não observadas denominadas de fatores. As variáveis observadas são modeladas como uma combinação linear de fatores e termos de erro (<a href=\"https://www.cs.princeton.edu/~bee/courses/scribe/lec_10_02_2013.pdf\">Engelhardt,2013</a>). O fator ou variável latente está associado a múltiplas variáveis observadas, que têm padrões comuns de respostas. Cada fator explica uma determinada quantidade de variância nas variáveis observadas. Ajuda na interpretação dos dados, reduzindo o número de variáveis com uma perda mínima de informação.</p>\n",
    "<p style=\"text-align:center;text-justify:inter-word;\"><img src=\"./analise_fatorial.png\" alt=\"análise fatorial\"></p>\n",
    "<p style=\"text-align:center;text-justify:inter-word;\"><strong><i>Figura 7 - Análise fatorial.</i></strong></p>\n",
    "\n",
    "<p style=\"text-align:justify;text-justify:inter-word;\">Como pode-se observar, o objetivo da Análise Fatorial é gerar fatores subjacentes não observados onde há muitas variáveis observadas. A principal função é diminuir uma grande quantidade de variáveis observadas em um número menor de fatores. Devido ao advento da tecnologia que gera uma quantidade gigantesca de informações, o interesse pelo uso da Analise Fatorial aumentou e ela tem sido usada nas mais diferentes áreas do conhecimento, e especialmente em ciências sociais. Um dos maiores desafios enfrentados pelos pesquisadores é operacionalizar conceitos abstratos em variáveis empiricamente observáveis. A análise fatorial tem se caracterizado como um dos métodos psicométricos mais poderosos para reduzir a complexidade de uma grande quantidade de variáveis a uma estrutura relativamente simples consistindo de um número menor de fatores.</p>\n"
   ]
  },
  {
   "cell_type": "code",
   "execution_count": 3,
   "id": "d18f2696-a585-44f7-a338-e0834c028de1",
   "metadata": {},
   "outputs": [],
   "source": [
    "##carregando as bibliotecas\n",
    "import pandas as pd\n",
    "from factor_analyzer  import  FactorAnalyzer\n"
   ]
  },
  {
   "cell_type": "markdown",
   "id": "c0c0338e-9d6d-4a45-85de-5530a7c16119",
   "metadata": {},
   "source": [
    "<h3>CARGA DOS DADOS</h3>\n",
    "<p style=\"text-align:justify;text-justify:inter-word;\">Carga do dataframe completo com os dados previamente tratados.</p>"
   ]
  },
  {
   "cell_type": "code",
   "execution_count": 4,
   "id": "8370f762-72b5-4308-991e-606cb304f928",
   "metadata": {},
   "outputs": [],
   "source": [
    "##carregando o dataframe \n",
    "df = pd.read_csv('dermatology_completo_tratado.csv')"
   ]
  },
  {
   "cell_type": "markdown",
   "id": "39c0c6c6-9f42-41c9-a023-4a8f88ddf851",
   "metadata": {},
   "source": [
    "<h3>Executando a análise fatorial exploratória</h3>"
   ]
  },
  {
   "cell_type": "code",
   "execution_count": 10,
   "id": "88352bc7-670a-4d83-9615-d321b28840a7",
   "metadata": {},
   "outputs": [
    {
     "data": {
      "text/plain": [
       "array([[-0.05299551,  0.05683412,  0.05483445],\n",
       "       [-0.12844077,  0.237308  ,  0.07508783],\n",
       "       [-0.28471631,  0.28772327,  0.08033752],\n",
       "       [-0.06835006,  0.63103554,  0.17869343],\n",
       "       [ 0.38496956,  0.14816487, -0.13158453],\n",
       "       [ 0.27207055,  0.35980509,  0.00241163],\n",
       "       [ 0.77286011,  0.52267171,  0.1518399 ],\n",
       "       [-0.04942769, -0.42789622,  0.75179149],\n",
       "       [ 0.75630081,  0.50006548,  0.14571928],\n",
       "       [-0.65601488,  0.31131636,  0.42833063],\n",
       "       [-0.6580773 ,  0.44702502,  0.16703727],\n",
       "       [ 0.31602022, -0.07917998, -0.30363954],\n",
       "       [ 0.78010612,  0.52875047,  0.15737069],\n",
       "       [ 0.122491  , -0.05724865, -0.15026822],\n",
       "       [-0.46732873,  0.14685973, -0.10417187],\n",
       "       [ 0.0288073 , -0.34310105, -0.20511755],\n",
       "       [ 0.66740514, -0.20448867, -0.04156567],\n",
       "       [-0.04458099,  0.23403726,  0.0315822 ],\n",
       "       [-0.24582354,  0.01285333,  0.13660568],\n",
       "       [-0.37418839,  0.42188582,  0.19200957],\n",
       "       [-0.76968752,  0.55130421,  0.09642573],\n",
       "       [-0.6991374 ,  0.26421521, -0.07813588],\n",
       "       [-0.74915667,  0.54299891,  0.07726243],\n",
       "       [-0.47625045,  0.30713415,  0.01311639],\n",
       "       [-0.54900637,  0.41553681,  0.05291676],\n",
       "       [ 0.77091821,  0.50926617,  0.16484039],\n",
       "       [-0.43817719,  0.40499109,  0.04977457],\n",
       "       [ 0.79289801,  0.53351997,  0.15778616],\n",
       "       [ 0.37284393, -0.31916125, -0.09821303],\n",
       "       [ 0.7812462 ,  0.51408983,  0.14904969],\n",
       "       [-0.01240537, -0.38902323,  0.83523516],\n",
       "       [-0.02673665, -0.42397672,  0.88619171],\n",
       "       [ 0.16269593,  0.21615617,  0.01436824],\n",
       "       [ 0.79070719,  0.52118715,  0.15120286],\n",
       "       [ 0.0253695 ,  0.25212736, -0.28453192],\n",
       "       [ 0.44781774, -0.66024088,  0.23111955]])"
      ]
     },
     "execution_count": 10,
     "metadata": {},
     "output_type": "execute_result"
    }
   ],
   "source": [
    "fa  =  FactorAnalyzer ( rotation = None )\n",
    "\n",
    "fa.fit(df)\n",
    "\n",
    "FactorAnalyzer ( bounds = ( 0.005 ,  1 ),  impute = 'median' ,  is_corr_matrix = False , \n",
    "               method = 'minres' ,  n_factors = 16 ,  rotation = None ,  rotation_kwargs = {}, \n",
    "               use_smc = True )\n",
    "\n",
    "fa.loadings_ "
   ]
  },
  {
   "cell_type": "code",
   "execution_count": 2,
   "id": "8805261a-0158-401c-b90d-543acb3819db",
   "metadata": {},
   "outputs": [
    {
     "ename": "NameError",
     "evalue": "name 'fa' is not defined",
     "output_type": "error",
     "traceback": [
      "\u001b[1;31m---------------------------------------------------------------------------\u001b[0m",
      "\u001b[1;31mNameError\u001b[0m                                 Traceback (most recent call last)",
      "\u001b[1;32m<ipython-input-2-69620ae2c147>\u001b[0m in \u001b[0;36m<module>\u001b[1;34m\u001b[0m\n\u001b[1;32m----> 1\u001b[1;33m \u001b[0mfa\u001b[0m\u001b[1;33m.\u001b[0m\u001b[0mloadings_\u001b[0m\u001b[1;33m\u001b[0m\u001b[1;33m\u001b[0m\u001b[0m\n\u001b[0m",
      "\u001b[1;31mNameError\u001b[0m: name 'fa' is not defined"
     ]
    }
   ],
   "source": []
  },
  {
   "cell_type": "code",
   "execution_count": null,
   "id": "b396d045-ba66-413e-86b4-dce8ed082b18",
   "metadata": {},
   "outputs": [],
   "source": [
    "fa.get_communalities ()  "
   ]
  }
 ],
 "metadata": {
  "kernelspec": {
   "display_name": "Python 3",
   "language": "python",
   "name": "python3"
  },
  "language_info": {
   "codemirror_mode": {
    "name": "ipython",
    "version": 3
   },
   "file_extension": ".py",
   "mimetype": "text/x-python",
   "name": "python",
   "nbconvert_exporter": "python",
   "pygments_lexer": "ipython3",
   "version": "3.9.5"
  }
 },
 "nbformat": 4,
 "nbformat_minor": 5
}
