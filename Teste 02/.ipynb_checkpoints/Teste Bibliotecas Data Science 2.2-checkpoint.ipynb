{
 "cells": [
  {
   "cell_type": "markdown",
   "id": "abe5b25d-40f2-49ac-80ae-9541b24c5087",
   "metadata": {},
   "source": [
    "<h1>ANÁLISE FATORIAL</h1>"
   ]
  },
  {
   "cell_type": "markdown",
   "id": "c55f2f1f-9d33-43f4-8466-d4b0298e2a64",
   "metadata": {},
   "source": [
    "<p style=\"text-align:justify;text-justify:inter-word;\">Nesta seção são usados os dataframes criados anteriormente para realizarmos a análise fatorial.</p>\n",
    "\n",
    "\n",
    "<p style=\"text-align:justify;text-justify:inter-word;\">Análise fatorial é um modelo estatístico linear usado para explicar a variância entre a variável observada e condensar um conjunto da variável observada na variável não observada denominada fator. As variáveis observadas são modeladas como uma combinação linear de fatores e termos de erro (<a href=\"https://www.cs.princeton.edu/~bee/courses/scribe/lec_10_02_2013.pdf\">Engelhardt,2013</a>). O fator ou variável latente está associado a múltiplas variáveis observadas, que têm padrões comuns de respostas. Cada fator explica uma determinada quantidade de variância nas variáveis observadas. Ajuda na interpretação dos dados, reduzindo o número de variáveis.</p>\n",
    "<p style=\"text-align:center;text-justify:inter-word;\"><img src=\"./analise_fatorial.png\" alt=\"análise fatorial\"><strong><i>Figura 7 - Análise fatorial.</i></strong></p>\n",
    "\n",
    "\n"
   ]
  },
  {
   "cell_type": "code",
   "execution_count": 7,
   "id": "d18f2696-a585-44f7-a338-e0834c028de1",
   "metadata": {},
   "outputs": [],
   "source": [
    "##carregando as bibliotecas\n",
    "import pandas as pd\n",
    "import numpy as np\n",
    "import matplotlib.pyplot as plt\n",
    "import seaborn as sb\n",
    "import\n",
    "\n",
    "\n",
    "%matplotlib inline"
   ]
  },
  {
   "cell_type": "markdown",
   "id": "c0c0338e-9d6d-4a45-85de-5530a7c16119",
   "metadata": {},
   "source": [
    "<h3>CARGA DOS DADOS</h3>\n",
    "<p style=\"text-align:justify;text-justify:inter-word;\">Carga dos dataframes com os dados previamente tratados.</p>"
   ]
  },
  {
   "cell_type": "code",
   "execution_count": 8,
   "id": "8370f762-72b5-4308-991e-606cb304f928",
   "metadata": {},
   "outputs": [],
   "source": [
    "##carregando os dataframes processados\n",
    "df = pd.read_csv('dermatology_completo_tratado.csv')\n",
    "df_10_best = pd.read_csv('dermatology_10_best.csv')\n",
    "df_clinico = pd.read_csv('dermatology_clinico.csv')\n",
    "df_clinico_cut = pd.read_csv('dermatology_clinico_cut.csv')\n",
    "df_clinico_pca = pd.read_csv('dermatologogy_clinico_pca.csv')\n",
    "df_histopatologico = pd.read_csv('dermatology_histopatologico.csv')\n",
    "df_histopatologico_cut = pd.read_csv('dermatology_histopatologico_cut.csv')\n",
    "df_histopatologico_pca = pd.read_csv('dermatologogy_histopatologico_pca.csv')"
   ]
  }
 ],
 "metadata": {
  "kernelspec": {
   "display_name": "Python 3",
   "language": "python",
   "name": "python3"
  },
  "language_info": {
   "codemirror_mode": {
    "name": "ipython",
    "version": 3
   },
   "file_extension": ".py",
   "mimetype": "text/x-python",
   "name": "python",
   "nbconvert_exporter": "python",
   "pygments_lexer": "ipython3",
   "version": "3.9.5"
  }
 },
 "nbformat": 4,
 "nbformat_minor": 5
}
